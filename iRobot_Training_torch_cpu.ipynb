{
 "cells": [
  {
   "cell_type": "code",
   "execution_count": 1,
   "metadata": {},
   "outputs": [],
   "source": [
    "import torch\n",
    "import torch.nn as nn\n",
    "import torch.optim as optim\n",
    "import torch.nn.functional as F\n",
    "\n",
    "import sys\n",
    "import time\n",
    "import numpy as np\n",
    "import cv2\n",
    "import pickle\n",
    "\n",
    "import numpy\n",
    "from matplotlib.pylab import *\n",
    "from mpl_toolkits.axes_grid1 import host_subplot\n",
    "import matplotlib.animation as animation\n",
    "\n",
    "from utils.printProgressBar import printProgressBar\n",
    "\n",
    "def echo(txt):\n",
    "    sys.stdout.write('\\r {}'.format(txt))\n",
    "    sys.stdout.flush()\n",
    "\n",
    "def getNumTrainParms(model):\n",
    "    model_parameters = filter(lambda p: p.requires_grad, model.parameters())\n",
    "    params = sum([np.prod(p.size()) for p in model_parameters])\n",
    "    return params\n",
    "\n",
    "%matplotlib notebook"
   ]
  },
  {
   "cell_type": "code",
   "execution_count": 2,
   "metadata": {},
   "outputs": [
    {
     "name": "stdout",
     "output_type": "stream",
     "text": [
      "Samples in vis. input: 824\n",
      "Shape of visual input: (32, 32, 3)\n",
      "Shape of right speeds: 824\n",
      "Shape of left  speeds: 824\n"
     ]
    }
   ],
   "source": [
    "# READ IN THE TRAINING DATA:\n",
    "\n",
    "f = open('robo_data_persp.pickle', 'rb')\n",
    "dat = pickle.load(f)\n",
    "IMG = dat['IMG']\n",
    "v_left = dat['LEFT_V']\n",
    "v_right = dat['RIGHT_V']\n",
    "\n",
    "trgRes = (32, 32)\n",
    "for i in range(len(IMG)):\n",
    "    IMG[i] = cv2.resize(IMG[i], dsize=trgRes, interpolation=cv2.INTER_AREA)\n",
    "    \n",
    "print('Samples in vis. input: {}'.format(IMG.__len__()))\n",
    "print('Shape of visual input: {}'.format(IMG[0].shape))\n",
    "\n",
    "print('Shape of right speeds: {}'.format(v_right.__len__()))\n",
    "print('Shape of left  speeds: {}'.format(v_left.__len__()))"
   ]
  },
  {
   "cell_type": "code",
   "execution_count": 3,
   "metadata": {},
   "outputs": [
    {
     "name": "stdout",
     "output_type": "stream",
     "text": [
      "Visual input shape: (824, 1, 32, 32)\n",
      "Visual target shape: torch.Size([824, 1, 32, 32])\n",
      "Motor target shape: torch.Size([824, 2])\n",
      "[0.0, 0.0, 0.0, 0.0, 0.0, 0.0, 0.0, 0.0, 0.0, 0.0]\n",
      "[0.0, 0.0, 0.0, 0.0, 0.0, 0.0, 0.0, 0.0, 0.0, 0.0]\n"
     ]
    }
   ],
   "source": [
    "# prep the data:\n",
    "\n",
    "v_right = dat['RIGHT_V']\n",
    "v_left = dat['LEFT_V']\n",
    "img = np.stack(IMG)\n",
    "img = img.transpose(0,3,1,2)\n",
    "img = img[:,0,:,:]\n",
    "img = img[:,None, :,:]\n",
    "visual_input = torch.tensor(img, dtype=torch.float)\n",
    "\n",
    "visual_target = np.roll(visual_input, -1, axis=0)\n",
    "visual_target = torch.tensor(visual_target, dtype=torch.float)\n",
    "\n",
    "target_v_right = np.roll(v_right, -1, axis=0)\n",
    "target_v_left  = np.roll(v_left, -1, axis=0)\n",
    "\n",
    "v_right = torch.tensor(v_right, dtype=torch.float).view(-1,1)\n",
    "v_left = torch.tensor(v_left, dtype=torch.float).view(-1,1)\n",
    "\n",
    "target_v_right = torch.tensor(target_v_right, dtype=torch.float).view(-1,1)\n",
    "target_v_left = torch.tensor(target_v_left, dtype=torch.float).view(-1,1)\n",
    "\n",
    "motor_input = torch.cat((v_right, v_left), dim=1)\n",
    "motor_target = torch.cat((target_v_right, target_v_left), dim=1)\n",
    "\n",
    "\n",
    "print('Visual input shape: {}'.format(img.shape))\n",
    "print('Visual target shape: {}'.format(visual_target.shape))\n",
    "print('Motor target shape: {}'.format(motor_target.shape))\n",
    "\n",
    "# check in the inputs have really been rolled as needed:\n",
    "print([torch.sum(visual_input[i+1] - visual_target[i]).item() for i in range(10)])\n",
    "print([torch.sum(motor_input[i+1] - motor_target[i]).item() for i in range(10)])"
   ]
  },
  {
   "cell_type": "code",
   "execution_count": 4,
   "metadata": {},
   "outputs": [
    {
     "data": {
      "text/plain": [
       "<matplotlib.image.AxesImage at 0x12e287860>"
      ]
     },
     "execution_count": 4,
     "metadata": {},
     "output_type": "execute_result"
    },
    {
     "data": {
      "image/png": "[encoded data removed]",
      "text/plain": [
       "<Figure size 1080x360 with 3 Axes>"
      ]
     },
     "metadata": {
      "needs_background": "light"
     },
     "output_type": "display_data"
    }
   ],
   "source": [
    "%matplotlib inline\n",
    "# us1 =   nn.Upsample(scale_factor=10, mode='nearest', align_corners=None)\n",
    "us1 =   nn.MaxPool2d(2, stride=2, padding=1)\n",
    "us2 =   nn.AvgPool2d(2, stride=2, padding=1)\n",
    "plt.figure(figsize=(15,5))\n",
    "plt.subplot(1,3,1)\n",
    "plt.imshow(visual_input[1].squeeze().detach().numpy())\n",
    "plt.subplot(1,3,2)\n",
    "x = us1(visual_input[1].unsqueeze(0)).squeeze().detach().numpy()\n",
    "x1 = us2(visual_input[1].unsqueeze(0)).squeeze().detach().numpy()\n",
    "plt.imshow(x)\n",
    "plt.title(x.shape)\n",
    "\n",
    "plt.subplot(1,3,3)\n",
    "plt.imshow(x1)"
   ]
  },
  {
   "cell_type": "code",
   "execution_count": 5,
   "metadata": {},
   "outputs": [],
   "source": [
    "class RNN(nn.Module):\n",
    "    def __init__(self, cell_type, input_size, hidden_size, output_size):\n",
    "        super(RNN, self).__init__()                  # extend the functionality of previously built classes.\n",
    "        self.hidden_size = hidden_size\n",
    "        self.cell_type = cell_type\n",
    "        # YOU CAN USE EITHER LSTM, GRU OR VANILLA RNN\n",
    "        if self.cell_type=='GRU':\n",
    "            self.rnn_cell = nn.GRU(input_size=input_size,    # the dimensionality of ONE ELEMENT in a sequence\n",
    "                                hidden_size=hidden_size, # apparently the hidden state and output dimensionality must be the same\n",
    "                                num_layers=1)            # how many LSTM cells we want to stack (defalult=1)\n",
    "        if self.cell_type=='LSTM':\n",
    "            self.rnn_cell = nn.LSTM(input_size=input_size,    # the dimensionality of ONE ELEMENT in a sequence\n",
    "                                hidden_size=hidden_size, # apparently the hidden state and output dimensionality must be the same\n",
    "                                num_layers=1)            # how many LSTM cells we want to stack (defalult=1)\n",
    "        if self.cell_type=='RNN':\n",
    "            self.rnn_cell = nn.RNN(input_size=input_size,    # the dimensionality of ONE ELEMENT in a sequence\n",
    "                                hidden_size=hidden_size, # apparently the hidden state and output dimensionality must be the same\n",
    "                                num_layers=1)            # how many LSTM cells we want to stack (defalult=1)\n",
    "\n",
    "        self.conv1 = nn.Conv2d(1, 7, kernel_size=3, padding=(1,1))\n",
    "        self.pool1 = nn.MaxPool2d(2, stride=2)\n",
    "        self.conv2 = nn.Conv2d(7, 28, 3, padding=1)\n",
    "        self.pool2 = nn.MaxPool2d(2, stride=2)\n",
    "        self.fc1 =   nn.Linear(1792, 100)\n",
    "        self.fc2 =   nn.Linear(100, 10)\n",
    "        self.fc3 =   nn.Linear(12, 2) # latent video (10) + motor (2) output from RNN to motor prediction\n",
    "        self.fc4 =   nn.Linear(12, 64)\n",
    "        self.us1 =   nn.Upsample(scale_factor=2, mode='nearest', align_corners=None)\n",
    "        self.us2 =   nn.Upsample(scale_factor=2, mode='nearest', align_corners=None)\n",
    "        self.us3 =   nn.Upsample(scale_factor=2, mode='nearest', align_corners=None)\n",
    "        self.us4 =   nn.Upsample(scale_factor=2, mode='nearest', align_corners=None)\n",
    "        self.conv3 = nn.Conv2d(1, 10, 3, padding=1)\n",
    "        self.conv4 = nn.Conv2d(10, 1, 3, padding=1)\n",
    "        self.activate = nn.Tanh()\n",
    "        self.optimizer = optim.RMSprop(self.parameters(),\n",
    "                                       lr=0.001,\n",
    "                                       momentum=0.00,\n",
    "                                       weight_decay=0.000,\n",
    "                                       centered=False)\n",
    "        \n",
    "        \n",
    "    def forward(self, visual_input, motor_input, hidden):\n",
    "        \n",
    "        # visual pathway:\n",
    "        out = F.relu(self.conv1(visual_input))\n",
    "        out = self.pool1(out)\n",
    "        out = F.relu(self.conv2(out)) # torch.Size([1367, 15, 58, 58])\n",
    "        out = self.pool2(out)         # torch.Size([1367, 15, 28, 28])\n",
    "        out = out.view(-1, out.size()[1]*out.size()[2]*out.size()[3]) # flatten\n",
    "        out = F.relu(self.fc1(out))\n",
    "        out = F.relu(self.fc2(out))\n",
    "        \n",
    "        # concatenate visual pathway and motor input:\n",
    "        out = torch.cat((out, motor_input), dim=1).unsqueeze_(1) # unsqueeze adds a dimension (for batch=1) inplace\n",
    "        \n",
    "        # run this combined input through an RNN cell (to predict the next visual input and motor state):\n",
    "        out, hidden = self.rnn_cell(out, hidden)\n",
    "        \n",
    "        # predict motor output based on the latent representation:\n",
    "        motor_output = F.relu(self.fc3(out.squeeze()))\n",
    "        \n",
    "        # reconstruct video from the latent representation:\n",
    "        out1 = F.relu(self.fc4(out.squeeze()))\n",
    "        out1 = out1.view(-1,1,8,8)\n",
    "        out1 = self.us1(out1)\n",
    "        out1 = F.relu(self.conv3(out1))\n",
    "        out1 = self.us2(out1)\n",
    "        out1 = F.relu(self.conv4(out1))\n",
    "\n",
    "        return out1, motor_output, hidden\n",
    "\n",
    "    def initHidden(self):\n",
    "        if self.cell_type=='LSTM': # we initialize a 2-tuple of hidden states (hidden state, memory)\n",
    "            return (torch.zeros(1, 1, self.hidden_size), torch.zeros(1, 1, self.hidden_size))\n",
    "        if self.cell_type=='GRU' or self.cell_type=='RNN': # we initialize a hidden state\n",
    "            return torch.zeros(1, 1, self.hidden_size)"
   ]
  },
  {
   "cell_type": "code",
   "execution_count": 6,
   "metadata": {},
   "outputs": [],
   "source": [
    "# rnn.optimizer.zero_grad()\n",
    "# hidden = rnn.initHidden()\n",
    "# out, hidden = rnn(visual_input, motor_input, hidden)"
   ]
  },
  {
   "cell_type": "code",
   "execution_count": 7,
   "metadata": {},
   "outputs": [],
   "source": [
    "input_size  = 12\n",
    "hidden_size = 12\n",
    "output_size = 12\n",
    "cell_type = 'GRU'\n",
    "\n",
    "EPOCHS = 5000\n",
    "\n",
    "criterion = nn.MSELoss()\n",
    "\n",
    "rnn = RNN(cell_type, input_size, hidden_size, output_size)\n"
   ]
  },
  {
   "cell_type": "markdown",
   "metadata": {},
   "source": [
    "# For optimal results, see when motor loss stops decreasing, interrupt the training, increase the weight of the motor loss and continue training"
   ]
  },
  {
   "cell_type": "code",
   "execution_count": 10,
   "metadata": {},
   "outputs": [
    {
     "name": "stdout",
     "output_type": "stream",
     "text": [
      "Epoch: 12 vloss: 12741.60 mloss: 54.06 Progress:  |--------------------------------------------------| 0.3% Complete"
     ]
    },
    {
     "ename": "KeyboardInterrupt",
     "evalue": "",
     "output_type": "error",
     "traceback": [
      "\u001b[0;31m---------------------------------------------------------------------------\u001b[0m",
      "\u001b[0;31mKeyboardInterrupt\u001b[0m                         Traceback (most recent call last)",
      "\u001b[0;32m<ipython-input-10-4d30ae51d476>\u001b[0m in \u001b[0;36m<module>\u001b[0;34m\u001b[0m\n\u001b[1;32m      4\u001b[0m     \u001b[0mrnn\u001b[0m\u001b[0;34m.\u001b[0m\u001b[0moptimizer\u001b[0m\u001b[0;34m.\u001b[0m\u001b[0mzero_grad\u001b[0m\u001b[0;34m(\u001b[0m\u001b[0;34m)\u001b[0m\u001b[0;34m\u001b[0m\u001b[0;34m\u001b[0m\u001b[0m\n\u001b[1;32m      5\u001b[0m     \u001b[0mhidden\u001b[0m \u001b[0;34m=\u001b[0m \u001b[0mrnn\u001b[0m\u001b[0;34m.\u001b[0m\u001b[0minitHidden\u001b[0m\u001b[0;34m(\u001b[0m\u001b[0;34m)\u001b[0m \u001b[0;31m# re-init hidden state to zero\u001b[0m\u001b[0;34m\u001b[0m\u001b[0;34m\u001b[0m\u001b[0m\n\u001b[0;32m----> 6\u001b[0;31m     \u001b[0mvisual_output\u001b[0m\u001b[0;34m,\u001b[0m \u001b[0mmotor_output\u001b[0m\u001b[0;34m,\u001b[0m \u001b[0mhidden\u001b[0m \u001b[0;34m=\u001b[0m \u001b[0mrnn\u001b[0m\u001b[0;34m(\u001b[0m\u001b[0mvisual_input\u001b[0m\u001b[0;34m,\u001b[0m \u001b[0mmotor_input\u001b[0m\u001b[0;34m,\u001b[0m \u001b[0mhidden\u001b[0m\u001b[0;34m)\u001b[0m\u001b[0;34m\u001b[0m\u001b[0;34m\u001b[0m\u001b[0m\n\u001b[0m\u001b[1;32m      7\u001b[0m     \u001b[0mmotor_loss\u001b[0m \u001b[0;34m=\u001b[0m \u001b[0;36m1\u001b[0m \u001b[0;34m*\u001b[0m \u001b[0mcriterion\u001b[0m\u001b[0;34m(\u001b[0m\u001b[0mmotor_output\u001b[0m\u001b[0;34m,\u001b[0m \u001b[0mmotor_target\u001b[0m\u001b[0;34m)\u001b[0m\u001b[0;34m\u001b[0m\u001b[0;34m\u001b[0m\u001b[0m\n\u001b[1;32m      8\u001b[0m     \u001b[0mvisual_loss\u001b[0m \u001b[0;34m=\u001b[0m \u001b[0mcriterion\u001b[0m\u001b[0;34m(\u001b[0m\u001b[0mvisual_output\u001b[0m\u001b[0;34m,\u001b[0m \u001b[0mvisual_target\u001b[0m\u001b[0;34m)\u001b[0m\u001b[0;34m\u001b[0m\u001b[0;34m\u001b[0m\u001b[0m\n",
      "\u001b[0;32m//anaconda3/lib/python3.7/site-packages/torch/nn/modules/module.py\u001b[0m in \u001b[0;36m__call__\u001b[0;34m(self, *input, **kwargs)\u001b[0m\n\u001b[1;32m    545\u001b[0m             \u001b[0mresult\u001b[0m \u001b[0;34m=\u001b[0m \u001b[0mself\u001b[0m\u001b[0;34m.\u001b[0m\u001b[0m_slow_forward\u001b[0m\u001b[0;34m(\u001b[0m\u001b[0;34m*\u001b[0m\u001b[0minput\u001b[0m\u001b[0;34m,\u001b[0m \u001b[0;34m**\u001b[0m\u001b[0mkwargs\u001b[0m\u001b[0;34m)\u001b[0m\u001b[0;34m\u001b[0m\u001b[0;34m\u001b[0m\u001b[0m\n\u001b[1;32m    546\u001b[0m         \u001b[0;32melse\u001b[0m\u001b[0;34m:\u001b[0m\u001b[0;34m\u001b[0m\u001b[0;34m\u001b[0m\u001b[0m\n\u001b[0;32m--> 547\u001b[0;31m             \u001b[0mresult\u001b[0m \u001b[0;34m=\u001b[0m \u001b[0mself\u001b[0m\u001b[0;34m.\u001b[0m\u001b[0mforward\u001b[0m\u001b[0;34m(\u001b[0m\u001b[0;34m*\u001b[0m\u001b[0minput\u001b[0m\u001b[0;34m,\u001b[0m \u001b[0;34m**\u001b[0m\u001b[0mkwargs\u001b[0m\u001b[0;34m)\u001b[0m\u001b[0;34m\u001b[0m\u001b[0;34m\u001b[0m\u001b[0m\n\u001b[0m\u001b[1;32m    548\u001b[0m         \u001b[0;32mfor\u001b[0m \u001b[0mhook\u001b[0m \u001b[0;32min\u001b[0m \u001b[0mself\u001b[0m\u001b[0;34m.\u001b[0m\u001b[0m_forward_hooks\u001b[0m\u001b[0;34m.\u001b[0m\u001b[0mvalues\u001b[0m\u001b[0;34m(\u001b[0m\u001b[0;34m)\u001b[0m\u001b[0;34m:\u001b[0m\u001b[0;34m\u001b[0m\u001b[0;34m\u001b[0m\u001b[0m\n\u001b[1;32m    549\u001b[0m             \u001b[0mhook_result\u001b[0m \u001b[0;34m=\u001b[0m \u001b[0mhook\u001b[0m\u001b[0;34m(\u001b[0m\u001b[0mself\u001b[0m\u001b[0;34m,\u001b[0m \u001b[0minput\u001b[0m\u001b[0;34m,\u001b[0m \u001b[0mresult\u001b[0m\u001b[0;34m)\u001b[0m\u001b[0;34m\u001b[0m\u001b[0;34m\u001b[0m\u001b[0m\n",
      "\u001b[0;32m<ipython-input-5-25e7d0df15f0>\u001b[0m in \u001b[0;36mforward\u001b[0;34m(self, visual_input, motor_input, hidden)\u001b[0m\n\u001b[1;32m     43\u001b[0m \u001b[0;34m\u001b[0m\u001b[0m\n\u001b[1;32m     44\u001b[0m         \u001b[0;31m# visual pathway:\u001b[0m\u001b[0;34m\u001b[0m\u001b[0;34m\u001b[0m\u001b[0;34m\u001b[0m\u001b[0m\n\u001b[0;32m---> 45\u001b[0;31m         \u001b[0mout\u001b[0m \u001b[0;34m=\u001b[0m \u001b[0mF\u001b[0m\u001b[0;34m.\u001b[0m\u001b[0mrelu\u001b[0m\u001b[0;34m(\u001b[0m\u001b[0mself\u001b[0m\u001b[0;34m.\u001b[0m\u001b[0mconv1\u001b[0m\u001b[0;34m(\u001b[0m\u001b[0mvisual_input\u001b[0m\u001b[0;34m)\u001b[0m\u001b[0;34m)\u001b[0m\u001b[0;34m\u001b[0m\u001b[0;34m\u001b[0m\u001b[0m\n\u001b[0m\u001b[1;32m     46\u001b[0m         \u001b[0mout\u001b[0m \u001b[0;34m=\u001b[0m \u001b[0mself\u001b[0m\u001b[0;34m.\u001b[0m\u001b[0mpool1\u001b[0m\u001b[0;34m(\u001b[0m\u001b[0mout\u001b[0m\u001b[0;34m)\u001b[0m\u001b[0;34m\u001b[0m\u001b[0;34m\u001b[0m\u001b[0m\n\u001b[1;32m     47\u001b[0m         \u001b[0mout\u001b[0m \u001b[0;34m=\u001b[0m \u001b[0mF\u001b[0m\u001b[0;34m.\u001b[0m\u001b[0mrelu\u001b[0m\u001b[0;34m(\u001b[0m\u001b[0mself\u001b[0m\u001b[0;34m.\u001b[0m\u001b[0mconv2\u001b[0m\u001b[0;34m(\u001b[0m\u001b[0mout\u001b[0m\u001b[0;34m)\u001b[0m\u001b[0;34m)\u001b[0m \u001b[0;31m# torch.Size([1367, 15, 58, 58])\u001b[0m\u001b[0;34m\u001b[0m\u001b[0;34m\u001b[0m\u001b[0m\n",
      "\u001b[0;32m//anaconda3/lib/python3.7/site-packages/torch/nn/modules/module.py\u001b[0m in \u001b[0;36m__call__\u001b[0;34m(self, *input, **kwargs)\u001b[0m\n\u001b[1;32m    545\u001b[0m             \u001b[0mresult\u001b[0m \u001b[0;34m=\u001b[0m \u001b[0mself\u001b[0m\u001b[0;34m.\u001b[0m\u001b[0m_slow_forward\u001b[0m\u001b[0;34m(\u001b[0m\u001b[0;34m*\u001b[0m\u001b[0minput\u001b[0m\u001b[0;34m,\u001b[0m \u001b[0;34m**\u001b[0m\u001b[0mkwargs\u001b[0m\u001b[0;34m)\u001b[0m\u001b[0;34m\u001b[0m\u001b[0;34m\u001b[0m\u001b[0m\n\u001b[1;32m    546\u001b[0m         \u001b[0;32melse\u001b[0m\u001b[0;34m:\u001b[0m\u001b[0;34m\u001b[0m\u001b[0;34m\u001b[0m\u001b[0m\n\u001b[0;32m--> 547\u001b[0;31m             \u001b[0mresult\u001b[0m \u001b[0;34m=\u001b[0m \u001b[0mself\u001b[0m\u001b[0;34m.\u001b[0m\u001b[0mforward\u001b[0m\u001b[0;34m(\u001b[0m\u001b[0;34m*\u001b[0m\u001b[0minput\u001b[0m\u001b[0;34m,\u001b[0m \u001b[0;34m**\u001b[0m\u001b[0mkwargs\u001b[0m\u001b[0;34m)\u001b[0m\u001b[0;34m\u001b[0m\u001b[0;34m\u001b[0m\u001b[0m\n\u001b[0m\u001b[1;32m    548\u001b[0m         \u001b[0;32mfor\u001b[0m \u001b[0mhook\u001b[0m \u001b[0;32min\u001b[0m \u001b[0mself\u001b[0m\u001b[0;34m.\u001b[0m\u001b[0m_forward_hooks\u001b[0m\u001b[0;34m.\u001b[0m\u001b[0mvalues\u001b[0m\u001b[0;34m(\u001b[0m\u001b[0;34m)\u001b[0m\u001b[0;34m:\u001b[0m\u001b[0;34m\u001b[0m\u001b[0;34m\u001b[0m\u001b[0m\n\u001b[1;32m    549\u001b[0m             \u001b[0mhook_result\u001b[0m \u001b[0;34m=\u001b[0m \u001b[0mhook\u001b[0m\u001b[0;34m(\u001b[0m\u001b[0mself\u001b[0m\u001b[0;34m,\u001b[0m \u001b[0minput\u001b[0m\u001b[0;34m,\u001b[0m \u001b[0mresult\u001b[0m\u001b[0;34m)\u001b[0m\u001b[0;34m\u001b[0m\u001b[0;34m\u001b[0m\u001b[0m\n",
      "\u001b[0;32m//anaconda3/lib/python3.7/site-packages/torch/nn/modules/conv.py\u001b[0m in \u001b[0;36mforward\u001b[0;34m(self, input)\u001b[0m\n\u001b[1;32m    341\u001b[0m \u001b[0;34m\u001b[0m\u001b[0m\n\u001b[1;32m    342\u001b[0m     \u001b[0;32mdef\u001b[0m \u001b[0mforward\u001b[0m\u001b[0;34m(\u001b[0m\u001b[0mself\u001b[0m\u001b[0;34m,\u001b[0m \u001b[0minput\u001b[0m\u001b[0;34m)\u001b[0m\u001b[0;34m:\u001b[0m\u001b[0;34m\u001b[0m\u001b[0;34m\u001b[0m\u001b[0m\n\u001b[0;32m--> 343\u001b[0;31m         \u001b[0;32mreturn\u001b[0m \u001b[0mself\u001b[0m\u001b[0;34m.\u001b[0m\u001b[0mconv2d_forward\u001b[0m\u001b[0;34m(\u001b[0m\u001b[0minput\u001b[0m\u001b[0;34m,\u001b[0m \u001b[0mself\u001b[0m\u001b[0;34m.\u001b[0m\u001b[0mweight\u001b[0m\u001b[0;34m)\u001b[0m\u001b[0;34m\u001b[0m\u001b[0;34m\u001b[0m\u001b[0m\n\u001b[0m\u001b[1;32m    344\u001b[0m \u001b[0;34m\u001b[0m\u001b[0m\n\u001b[1;32m    345\u001b[0m \u001b[0;32mclass\u001b[0m \u001b[0mConv3d\u001b[0m\u001b[0;34m(\u001b[0m\u001b[0m_ConvNd\u001b[0m\u001b[0;34m)\u001b[0m\u001b[0;34m:\u001b[0m\u001b[0;34m\u001b[0m\u001b[0;34m\u001b[0m\u001b[0m\n",
      "\u001b[0;32m//anaconda3/lib/python3.7/site-packages/torch/nn/modules/conv.py\u001b[0m in \u001b[0;36mconv2d_forward\u001b[0;34m(self, input, weight)\u001b[0m\n\u001b[1;32m    338\u001b[0m                             _pair(0), self.dilation, self.groups)\n\u001b[1;32m    339\u001b[0m         return F.conv2d(input, weight, self.bias, self.stride,\n\u001b[0;32m--> 340\u001b[0;31m                         self.padding, self.dilation, self.groups)\n\u001b[0m\u001b[1;32m    341\u001b[0m \u001b[0;34m\u001b[0m\u001b[0m\n\u001b[1;32m    342\u001b[0m     \u001b[0;32mdef\u001b[0m \u001b[0mforward\u001b[0m\u001b[0;34m(\u001b[0m\u001b[0mself\u001b[0m\u001b[0;34m,\u001b[0m \u001b[0minput\u001b[0m\u001b[0;34m)\u001b[0m\u001b[0;34m:\u001b[0m\u001b[0;34m\u001b[0m\u001b[0;34m\u001b[0m\u001b[0m\n",
      "\u001b[0;31mKeyboardInterrupt\u001b[0m: "
     ]
    }
   ],
   "source": [
    "LOSS = []\n",
    "printProgressBar(0, EPOCHS, prefix = 'Progress:', suffix = 'Complete', length = 50)\n",
    "for epoch in range(EPOCHS):\n",
    "    rnn.optimizer.zero_grad()\n",
    "    hidden = rnn.initHidden() # re-init hidden state to zero\n",
    "    visual_output, motor_output, hidden = rnn(visual_input, motor_input, hidden)\n",
    "    motor_loss = 1 * criterion(motor_output, motor_target)\n",
    "    visual_loss = criterion(visual_output, visual_target)\n",
    "    loss = motor_loss + visual_loss\n",
    "    loss.backward()\n",
    "    LOSS.append(loss.item())\n",
    "    rnn.optimizer.step()\n",
    "    printProgressBar(epoch + 1, EPOCHS, prefix='Epoch: {} vloss: {:.2f} mloss: {:.2f} Progress: '.format(\n",
    "        epoch, visual_loss.item(), motor_loss.item()), suffix='Complete', length=50)\n",
    "    "
   ]
  },
  {
   "cell_type": "code",
   "execution_count": null,
   "metadata": {},
   "outputs": [],
   "source": []
  }
 ],
 "metadata": {
  "kernelspec": {
   "display_name": "Python 3",
   "language": "python",
   "name": "python3"
  },
  "language_info": {
   "codemirror_mode": {
    "name": "ipython",
    "version": 3
   },
   "file_extension": ".py",
   "mimetype": "text/x-python",
   "name": "python",
   "nbconvert_exporter": "python",
   "pygments_lexer": "ipython3",
   "version": "3.7.3"
  }
 },
 "nbformat": 4,
 "nbformat_minor": 2
}
